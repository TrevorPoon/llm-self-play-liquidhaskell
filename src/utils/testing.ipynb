{
 "cells": [
  {
   "cell_type": "markdown",
   "metadata": {},
   "source": [
    "# Inspect Parquet"
   ]
  },
  {
   "cell_type": "code",
   "execution_count": 6,
   "metadata": {},
   "outputs": [
    {
     "name": "stdout",
     "output_type": "stream",
     "text": [
      "Reading Parquet file: /home/s2652867/llm-self-play-liquidhaskell/data/jtatman-python-code-dataset-500k/train-00000-of-00002.parquet\n",
      "Schema:\n",
      "output: string\n",
      "instruction: string\n",
      "system: string\n",
      "-- schema metadata --\n",
      "huggingface: '{\"info\": {\"features\": {\"output\": {\"dtype\": \"string\", \"_type' + 117\n",
      "\n",
      "Total rows: 279758\n",
      "Columns: ['output', 'instruction', 'system']\n",
      "\n",
      "First 5 rows:\n",
      "\n",
      "                                              output  \\\n",
      "0  Here is an example of a nested loop in Python ...   \n",
      "1  The given problem can be solved by iterating t...   \n",
      "2  Here's an example of code that attempts to sol...   \n",
      "3  Here is an implementation of the function in P...   \n",
      "4  Here's a possible implementation of the method...   \n",
      "\n",
      "                                         instruction  \\\n",
      "0  Create a nested loop to print every combinatio...   \n",
      "1  Write a function to find the number of distinc...   \n",
      "2  Write code that removes spaces and punctuation...   \n",
      "3  Write a function that checks if a given number...   \n",
      "4  Write a method for a string class which replac...   \n",
      "\n",
      "                                              system  \n",
      "0  You are a Python code analyst, evaluating scri...  \n",
      "1  As a Python code composer, you craft elegant a...  \n",
      "2  As a Python code analyst, you investigate and ...  \n",
      "3  As a Python code composer, you craft elegant a...  \n",
      "4  As a Python code translator, you convert algor...  \n",
      "Saved first 5 rows to CSV: /home/s2652867/llm-self-play-liquidhaskell/data/jtatman-python-code-dataset-500k/train-00000-of-00002_head.csv\n",
      "\n",
      "==================================================\n",
      "\n",
      "Reading Parquet file: /home/s2652867/llm-self-play-liquidhaskell/data/jtatman-python-code-dataset-500k/train-00001-of-00002.parquet\n",
      "Schema:\n",
      "output: string\n",
      "instruction: string\n",
      "system: string\n",
      "-- schema metadata --\n",
      "huggingface: '{\"info\": {\"features\": {\"output\": {\"dtype\": \"string\", \"_type' + 117\n",
      "\n",
      "Total rows: 279757\n",
      "Columns: ['output', 'instruction', 'system']\n",
      "\n",
      "First 5 rows:\n",
      "\n",
      "                                              output  \\\n",
      "0          Compile a SASS source file and output it.   \n",
      "1  Browserify one or more library directories int...   \n",
      "2  Browserify a single javascript entry point plu...   \n",
      "3  A custom function which must create the output...   \n",
      "4                 Factory method for the generic LXC   \n",
      "\n",
      "                                         instruction  \\\n",
      "0  Make a summary of the following Python 3 code\\...   \n",
      "1  Here you have a function in Python 3, explain ...   \n",
      "2  Given the following Python 3 function, write t...   \n",
      "3  Can you tell what is the following Python 3 fu...   \n",
      "4  Here you have a function in Python 3, explain ...   \n",
      "\n",
      "                                              system  \n",
      "0  You are a Python code analyst, evaluating scri...  \n",
      "1  You are a Python code analyst, evaluating scri...  \n",
      "2  As a python code expert, you are capable of cr...  \n",
      "3  As a Python code analyst, you investigate and ...  \n",
      "4  As a Python code composer, you craft elegant a...  \n",
      "Saved first 5 rows to CSV: /home/s2652867/llm-self-play-liquidhaskell/data/jtatman-python-code-dataset-500k/train-00001-of-00002_head.csv\n"
     ]
    }
   ],
   "source": [
    "import pyarrow.parquet as pq\n",
    "import pandas as pd\n",
    "\n",
    "def inspect_parquet(parquet_path, num_rows=5):\n",
    "    \"\"\"\n",
    "    Reads a local Parquet file, prints basic information about the data,\n",
    "    and shows the first few rows (default 5).\n",
    "    \"\"\"\n",
    "    print(f\"Reading Parquet file: {parquet_path}\")\n",
    "    table = pq.read_table(parquet_path)\n",
    "    print(f\"Schema:\\n{table.schema}\\n\")\n",
    "\n",
    "    df = table.to_pandas()\n",
    "    print(f\"Total rows: {len(df)}\")\n",
    "    print(f\"Columns: {df.columns.tolist()}\\n\")\n",
    "\n",
    "    # Show a few rows\n",
    "    print(f\"First {num_rows} rows:\\n\")\n",
    "    print(df.head(num_rows))\n",
    "    \n",
    "    output_csv_path = parquet_path.replace('.parquet', '_head.csv')\n",
    "    df.head(num_rows).to_csv(output_csv_path, index=False)\n",
    "    print(f\"Saved first {num_rows} rows to CSV: {output_csv_path}\")\n",
    "\n",
    "\n",
    "# Example usage: adapt the paths to your local environment\n",
    "parquet_file_1 = \"/home/s2652867/llm-self-play-liquidhaskell/data/jtatman-python-code-dataset-500k/train-00000-of-00002.parquet\"\n",
    "parquet_file_2 = \"/home/s2652867/llm-self-play-liquidhaskell/data/jtatman-python-code-dataset-500k/train-00001-of-00002.parquet\"\n",
    "\n",
    "# Inspect the first file\n",
    "inspect_parquet(parquet_file_1, num_rows=5)\n",
    "print(\"\\n\" + \"=\"*50 + \"\\n\")\n",
    "# Inspect the second file\n",
    "inspect_parquet(parquet_file_2, num_rows=5)\n",
    "\n"
   ]
  },
  {
   "cell_type": "markdown",
   "metadata": {},
   "source": [
    "# End"
   ]
  },
  {
   "cell_type": "markdown",
   "metadata": {},
   "source": []
  }
 ],
 "metadata": {
  "kernelspec": {
   "display_name": "llm_sp",
   "language": "python",
   "name": "python3"
  },
  "language_info": {
   "codemirror_mode": {
    "name": "ipython",
    "version": 3
   },
   "file_extension": ".py",
   "mimetype": "text/x-python",
   "name": "python",
   "nbconvert_exporter": "python",
   "pygments_lexer": "ipython3",
   "version": "3.12.9"
  }
 },
 "nbformat": 4,
 "nbformat_minor": 2
}
